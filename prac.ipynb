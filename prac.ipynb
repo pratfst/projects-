{
 "cells": [
  {
   "cell_type": "code",
   "execution_count": 18,
   "metadata": {},
   "outputs": [
    {
     "name": "stdout",
     "output_type": "stream",
     "text": [
      "pratap\n",
      "sfgdg sdfgdsg\n"
     ]
    }
   ],
   "source": [
    "\n",
    "\n",
    "\n",
    "class Name:\n",
    "    def __init__(self,name,age):\n",
    "        self.name=name\n",
    "        self.age=age \n",
    "    def show(self):\n",
    "        print(self.name,self.age)\n",
    "\n",
    "class Base(Name):\n",
    "    def __init__(self,classes,name,age):\n",
    "        self.classes=classes\n",
    "        Name.__init__(self,name,age)\n",
    "\n",
    "    def shoq(self):\n",
    "        print(self.classes)\n",
    "        print(self.name,self.age)\n",
    "        \n",
    "\n",
    "obj=Base(\"pratap\",\"sfgdg\",\"sdfgdsg\")\n",
    "obj.shoq()\n",
    "\n"
   ]
  },
  {
   "cell_type": "markdown",
   "metadata": {},
   "source": [
    "Polymorphism"
   ]
  },
  {
   "cell_type": "code",
   "execution_count": 19,
   "metadata": {},
   "outputs": [
    {
     "name": "stdout",
     "output_type": "stream",
     "text": [
      "Animal sound\n",
      "Cat says meow\n"
     ]
    }
   ],
   "source": [
    "class Animal:\n",
    "    def sound(self):\n",
    "     print(\"Animal sound\")\n",
    "class Cat(Animal):\n",
    "    def sound(self):\n",
    "     print(\"Cat says meow\")\n",
    "animal=Animal()\n",
    "cat=Cat()\n",
    "animal.sound()\n",
    "cat.sound()\n"
   ]
  },
  {
   "cell_type": "markdown",
   "metadata": {},
   "source": []
  }
 ],
 "metadata": {
  "kernelspec": {
   "display_name": "Python 3.7.0 64-bit",
   "language": "python",
   "name": "python3"
  },
  "language_info": {
   "codemirror_mode": {
    "name": "ipython",
    "version": 3
   },
   "file_extension": ".py",
   "mimetype": "text/x-python",
   "name": "python",
   "nbconvert_exporter": "python",
   "pygments_lexer": "ipython3",
   "version": "3.7.0"
  },
  "orig_nbformat": 4,
  "vscode": {
   "interpreter": {
    "hash": "eed340fe45b9a6e0534432462de3f094c7bc32c4a584a2de196f0ab18eb82c65"
   }
  }
 },
 "nbformat": 4,
 "nbformat_minor": 2
}
